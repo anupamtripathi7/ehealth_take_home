{
 "cells": [
  {
   "cell_type": "markdown",
   "metadata": {},
   "source": [
    "### Thank you so much for your interest in the Data Scientist position at eHealth!   As previously corresponded, we are contacting you now to share the technical quiz we will use to evaluate your application.  The same questions are shared with all candidates for this position regardless of their experience level.\n",
    "\n",
    "### Please use this notebook to solve the questions, both for analysis and coding. Please also ensure that the notebook will run at the end, as we will run all cells."
   ]
  },
  {
   "cell_type": "code",
   "execution_count": 1,
   "metadata": {},
   "outputs": [],
   "source": [
    "import pandas as pd\n",
    "\n",
    "%matplotlib inline\n",
    "%load_ext autoreload\n",
    "%autoreload 2"
   ]
  },
  {
   "cell_type": "markdown",
   "metadata": {},
   "source": [
    "## Part 1: Coding in Python, Runtime Analysis"
   ]
  },
  {
   "cell_type": "code",
   "execution_count": 2,
   "metadata": {},
   "outputs": [],
   "source": [
    "def mystery(array):\n",
    "    indicator1 = True\n",
    "    indicator2 = True\n",
    "    for i, value in enumerate(array[:-1]):\n",
    "        if value > min(array[i+1:]):\n",
    "            indicator1 = False\n",
    "            break\n",
    "    for i, value in enumerate(array[:-1]):\n",
    "        if value < max(array[i+1:]):\n",
    "            indicator2 = False\n",
    "            break\n",
    "    return indicator1 or indicator2"
   ]
  },
  {
   "cell_type": "markdown",
   "metadata": {},
   "source": [
    "#### (a) Describe in plain English what the above function does.\n"
   ]
  },
  {
   "cell_type": "markdown",
   "metadata": {},
   "source": [
    "#### (b) Describe the runtime of this code as a function of the length of the input array. (Extra Credit: Give a tight asymptotic upper bound  and prove your bound is tight.)"
   ]
  },
  {
   "cell_type": "markdown",
   "metadata": {},
   "source": [
    "#### (c) Give an alternative implementation below."
   ]
  },
  {
   "cell_type": "markdown",
   "metadata": {},
   "source": [
    "**a)** The given function tells if an input array is either increasing or decreasing. \n",
    "An example of an increasing list would be **[1, 2, 3, 4, 5]** and of a decreasing list would be **[5, 4, 3, 2, 1]**. \n",
    "\n",
    "To be more specific, each of these functionalities is performed by the `for` loops. If it is not increasing, **indicator1** will become false and similarly if it is not decreasing, **indicator2** will be false. If either or both the indicators are true, the resultant answer will be true else it will be false.\n",
    "\n",
    "**b)** The run time of the given function will be of the order **O(n^2)**, if `n` is the size of the list. \n",
    "For illustration purposes, lets consider the size of the list to be 5. \n",
    "The given `for` loops run n-1 times, that is 4 times. A `min` function for any list of size n  has a runtime of *O(n)*, since it goes through all the n elements to find out the minimum. For the first iteration, the size of the list in `min` is 4. For the next iteration, it is 3, then 2 and finally 1. Therefore the total number of elements parsed through it are 4+3+2+1. \n",
    "\n",
    "Now similarly if the size of the list is 4, the `min` function passes through 3+2+1 elements. \n",
    "\n",
    "In general, for a list size of n, the `min` function passes through n(n-1)/2 items. With two such loops, it is twice of that, ie n(n-1) and that itself would be proportional to the tight asymptotic upper bound of the given function assuming the break statements are not encountered. In terms of time complexity, it can be said to have of order **O(n^2)**.\n",
    "\n",
    "**c)** The given implementation looks for early stopping and breaking in between if the given condition is True - thereby not going through the entire array but infact it ends up looking at the entire array using `min`. An alternate implementation would be by checking just the consecutive number as shown below: \n"
   ]
  },
  {
   "cell_type": "code",
   "execution_count": 3,
   "metadata": {},
   "outputs": [],
   "source": [
    "def mystery(array):\n",
    "    indicator1 = True\n",
    "    indicator2 = True\n",
    "    for i, value in enumerate(array[:-1]):\n",
    "        if value > array[i+1]:\n",
    "            indicator1 = False\n",
    "            break\n",
    "    for i, value in enumerate(array[:-1]):\n",
    "        if value < array[i+1]:\n",
    "            indicator2 = False\n",
    "            break\n",
    "    return indicator1, indicator2"
   ]
  },
  {
   "cell_type": "markdown",
   "metadata": {},
   "source": [
    "#### (d) Describe in plain English how your implementation's strategy differs and give its runtime."
   ]
  },
  {
   "cell_type": "markdown",
   "metadata": {},
   "source": [
    "**d)** The given function has a very similar strategy, but instead of comparing the current element with all further elements, it just compares two consecutive elements to see if they are increasing or decreasing. "
   ]
  },
  {
   "cell_type": "markdown",
   "metadata": {},
   "source": [
    "## Part 2: Probability Theory"
   ]
  },
  {
   "cell_type": "markdown",
   "metadata": {},
   "source": [
    "#### (a) Which is more likely: Winning at least 73 out of 82 games or winning 16 out of 16 games? State your assumptions and explain your reasoning."
   ]
  },
  {
   "cell_type": "markdown",
   "metadata": {},
   "source": [
    "#### (b) Use the data in ages.csv to write a function that predicts the expected number of remaining years until death for a person given their sex and current age. The data contains a list of the ages at which people died (in years) and the sex of each person. What does your model predict for\n",
    "  * (i) a 30 year old F, \n",
    "  * (ii) a 20 year old F,\n",
    "  * (iii) a 15 year old M,\n",
    "  * (iv) a 20 year old M ?\n",
    "\n",
    "#### Do your model's predictions for (iii) and (iv) make sense? If not, explain why not in plain English. If so, explain why and include a plausible intuitive explanation."
   ]
  },
  {
   "cell_type": "markdown",
   "metadata": {},
   "source": [
    "**a)** If p is the probability of winning one game and assuming each game is independent of each other, and so p will be the probabilty of winning any single game. \n",
    "The probabilty of winning 16 out of 16 games would be (p)^16\n",
    "The probability of winning at least 73 out of 82 games would be same is the porbability of winning 73 games + that winning 74 + 75 + ... 82 games. \n",
    "The probability of winning n out of k games in such a case would be <br>\n",
    "$$ C^{n}_k * (p)^{k} * (1-p)^{n-k}  $$\n",
    "Using this and leaving the hard part for calculations to wolfram alpha, Lets see these distributions for different values of p.\n",
    "\n"
   ]
  },
  {
   "cell_type": "code",
   "execution_count": 4,
   "metadata": {},
   "outputs": [
    {
     "data": {
      "image/png": "[encoded data removed]",
      "text/plain": [
       "<Figure size 432x288 with 1 Axes>"
      ]
     },
     "metadata": {
      "needs_background": "light"
     },
     "output_type": "display_data"
    }
   ],
   "source": [
    "from utils import plot_probabilities\n",
    "plot_probabilities()"
   ]
  },
  {
   "cell_type": "markdown",
   "metadata": {},
   "source": [
    "As we can see, for a range of approx 0.85 to 1, the probability of winning at least 73 out of 82 is greater. "
   ]
  },
  {
   "cell_type": "code",
   "execution_count": 5,
   "metadata": {},
   "outputs": [
    {
     "data": {
      "text/html": [
       "<div>\n",
       "<style scoped>\n",
       "    .dataframe tbody tr th:only-of-type {\n",
       "        vertical-align: middle;\n",
       "    }\n",
       "\n",
       "    .dataframe tbody tr th {\n",
       "        vertical-align: top;\n",
       "    }\n",
       "\n",
       "    .dataframe thead th {\n",
       "        text-align: right;\n",
       "    }\n",
       "</style>\n",
       "<table border=\"1\" class=\"dataframe\">\n",
       "  <thead>\n",
       "    <tr style=\"text-align: right;\">\n",
       "      <th></th>\n",
       "      <th>Unnamed: 0</th>\n",
       "      <th>Sex</th>\n",
       "      <th>Age at Death</th>\n",
       "    </tr>\n",
       "  </thead>\n",
       "  <tbody>\n",
       "    <tr>\n",
       "      <th>3390</th>\n",
       "      <td>1747</td>\n",
       "      <td>F</td>\n",
       "      <td>101.282218</td>\n",
       "    </tr>\n",
       "    <tr>\n",
       "      <th>3391</th>\n",
       "      <td>3378</td>\n",
       "      <td>M</td>\n",
       "      <td>101.973305</td>\n",
       "    </tr>\n",
       "    <tr>\n",
       "      <th>3392</th>\n",
       "      <td>1692</td>\n",
       "      <td>F</td>\n",
       "      <td>102.985513</td>\n",
       "    </tr>\n",
       "    <tr>\n",
       "      <th>3393</th>\n",
       "      <td>459</td>\n",
       "      <td>F</td>\n",
       "      <td>103.405166</td>\n",
       "    </tr>\n",
       "    <tr>\n",
       "      <th>3394</th>\n",
       "      <td>864</td>\n",
       "      <td>F</td>\n",
       "      <td>103.636348</td>\n",
       "    </tr>\n",
       "    <tr>\n",
       "      <th>3395</th>\n",
       "      <td>22</td>\n",
       "      <td>F</td>\n",
       "      <td>103.663146</td>\n",
       "    </tr>\n",
       "    <tr>\n",
       "      <th>3396</th>\n",
       "      <td>520</td>\n",
       "      <td>F</td>\n",
       "      <td>104.195892</td>\n",
       "    </tr>\n",
       "    <tr>\n",
       "      <th>3397</th>\n",
       "      <td>1749</td>\n",
       "      <td>F</td>\n",
       "      <td>106.078745</td>\n",
       "    </tr>\n",
       "    <tr>\n",
       "      <th>3398</th>\n",
       "      <td>2207</td>\n",
       "      <td>M</td>\n",
       "      <td>107.045288</td>\n",
       "    </tr>\n",
       "    <tr>\n",
       "      <th>3399</th>\n",
       "      <td>811</td>\n",
       "      <td>F</td>\n",
       "      <td>115.271325</td>\n",
       "    </tr>\n",
       "  </tbody>\n",
       "</table>\n",
       "</div>"
      ],
      "text/plain": [
       "      Unnamed: 0 Sex  Age at Death\n",
       "3390        1747   F    101.282218\n",
       "3391        3378   M    101.973305\n",
       "3392        1692   F    102.985513\n",
       "3393         459   F    103.405166\n",
       "3394         864   F    103.636348\n",
       "3395          22   F    103.663146\n",
       "3396         520   F    104.195892\n",
       "3397        1749   F    106.078745\n",
       "3398        2207   M    107.045288\n",
       "3399         811   F    115.271325"
      ]
     },
     "execution_count": 5,
     "metadata": {},
     "output_type": "execute_result"
    }
   ],
   "source": [
    "ages_df = pd.read_csv('ages.csv')\n",
    "\n",
    "# Some long-lived people:\n",
    "ages_df.tail(10)"
   ]
  },
  {
   "cell_type": "markdown",
   "metadata": {},
   "source": [
    "b) The predictions for the given question are given below"
   ]
  },
  {
   "cell_type": "code",
   "execution_count": 6,
   "metadata": {},
   "outputs": [
    {
     "name": "stdout",
     "output_type": "stream",
     "text": [
      "Age: 30\t\tSex: F\t\tNumber of years before death: 33\n",
      "Age: 20\t\tSex: F\t\tNumber of years before death: 43\n",
      "Age: 15\t\tSex: M\t\tNumber of years before death: 41\n",
      "Age: 20\t\tSex: M\t\tNumber of years before death: 36\n"
     ]
    }
   ],
   "source": [
    "def predict_years_left(current_age, sex):\n",
    "    \"\"\"Current age is a float in years. Sex is either 'M' or 'F'.\n",
    "    Returns a float representing the expected number of years before death.\"\"\"\n",
    "    avg_age = ages_df[ages_df['Sex'] == sex]['Age at Death'].mean()\n",
    "    return int(max(0, avg_age - current_age))\n",
    "\n",
    "data = {'ages': [30, 20, 15, 20],\n",
    "        'sex': ['F', 'F', 'M', 'M']}\n",
    "for i in range(len(data['ages'])):\n",
    "    print('Age: {}\\t\\tSex: {}\\t\\tNumber of years before death: {}'.format(data['ages'][i], data['sex'][i], predict_years_left(data['ages'][i], data['sex'][i])))"
   ]
  },
  {
   "cell_type": "code",
   "execution_count": 7,
   "metadata": {},
   "outputs": [
    {
     "data": {
      "image/png": "[encoded data removed]",
      "text/plain": [
       "<Figure size 432x288 with 1 Axes>"
      ]
     },
     "metadata": {
      "needs_background": "light"
     },
     "output_type": "display_data"
    },
    {
     "data": {
      "image/png": "[encoded data removed]",
      "text/plain": [
       "<Figure size 432x288 with 1 Axes>"
      ]
     },
     "metadata": {
      "needs_background": "light"
     },
     "output_type": "display_data"
    }
   ],
   "source": [
    "import matplotlib.pyplot as plt\n",
    "plt.hist(ages_df[ages_df['Sex'] == 'M']['Age at Death'])\n",
    "plt.title('Male')\n",
    "plt.xlabel('Age before Death')\n",
    "plt.ylabel('Counts')       \n",
    "plt.show()\n",
    "plt.hist(ages_df[ages_df['Sex'] == 'F']['Age at Death'])\n",
    "plt.xlabel('Age before Death')\n",
    "plt.ylabel('Counts')  \n",
    "plt.title('Female')\n",
    "plt.show()"
   ]
  },
  {
   "cell_type": "markdown",
   "metadata": {},
   "source": [
    "As we can see from the above distributions, in the 10-20 range there is a spike for males, hence lowering the overall average for the entire class as compared to females. They could be outliers or incorrect entries and potentially the reason for the lower expected remaining years compared to females. We also see that females follow a normal distribution curve and males follow a bimodal distribution, and mean is not the best way to summarize it. As a solution to this, we can possibly collect more data points for both these classes so that the means are not affected by outliers and they follow the Central Limit Theorem. "
   ]
  },
  {
   "cell_type": "markdown",
   "metadata": {},
   "source": [
    "## Part 3: Statistics"
   ]
  },
  {
   "cell_type": "code",
   "execution_count": 8,
   "metadata": {},
   "outputs": [],
   "source": [
    "from IPython.display import Image"
   ]
  },
  {
   "cell_type": "markdown",
   "metadata": {},
   "source": [
    "#### Imagine you’re analyzing a new dataset with two populations. The number of ER visits per year for population 1 (gray) and population 2 (red) for each patient is plotted in the histogram below:"
   ]
  },
  {
   "cell_type": "code",
   "execution_count": 10,
   "metadata": {
    "scrolled": true
   },
   "outputs": [
    {
     "data": {
      "image/png": "[encoded data removed]",
      "text/plain": [
       "<IPython.core.display.Image object>"
      ]
     },
     "execution_count": 10,
     "metadata": {},
     "output_type": "execute_result"
    }
   ],
   "source": [
    "Image(filename='distribution.png') "
   ]
  },
  {
   "cell_type": "markdown",
   "metadata": {},
   "source": [
    "#### (a) What significance test would you use to determine if the two distributions are at different locations? Why is the test you picked the most appropriate one? What assumptions does it make?"
   ]
  },
  {
   "cell_type": "markdown",
   "metadata": {},
   "source": [
    "#### (b) How would you construct a 95% confidence interval for the mean of each distribution? Why is that method valid? What assumptions does it make?"
   ]
  },
  {
   "cell_type": "markdown",
   "metadata": {},
   "source": [
    "**a)** Since the given distributions are unpaired and one of them do not follow a normal distribution, a lot of well known tests are ruled out. The Kolmogorov-Smirnov Goodness of Fit Test does not take any assumption about the distribution and so can be used for our case. The few assumptions that it takes include the distributions being continuous and non decreasing. \n",
    "\n",
    "**b)** Our first distribution is normal, so that is not a problem. We can use the z table to find the 95% confidence interval. The second distribution looks more like a log normal distribution. Although there are really specific ways for finding confidence intervals for it, we can even use the KS table for it. The assumptions are same as above. \n"
   ]
  },
  {
   "cell_type": "markdown",
   "metadata": {},
   "source": [
    "## Part 4: Model Evaluation"
   ]
  },
  {
   "cell_type": "markdown",
   "metadata": {
    "scrolled": true
   },
   "source": [
    "The following dataframe has some attributes for applications from a previous period. The dataframe also includes the predictions from each of 3 different models and the actual result for each of those opportunities.\n",
    "\n",
    "All dates are in the excel date format, so they're floats corresponding to the number of days since the beginning of 1900. The predictions were made at the beginning of Dec 2016 about whether the applicaitons would churn by the end of Feb 2017, ie the observations are taken from the beginning of December 2016 (42705.0 in excel time) and the labels correspond to the state of the opportunities at the end of February 2017 (42794.0).\n",
    "\n",
    "Some of the fields in the data:\n",
    "\n",
    "* Submission Date - When the application was submitted\n",
    "* Agent - The name of the agent who secured this application\n",
    "* Product - The type of the product. Each represents a different kind of insurance offering.\n",
    "* Monthly commission - The monthly revenue to be collected for each month the application remains active.\n",
    "* Theatre / Region / Sub-Region - The geographical divisions that this application falls into\n",
    "* r  - The final outcome: 1 means the application churned; 0 means the application did not churn.\n",
    "* p_1, p_2 and p_3 refer to the predicted probabilities of closing from each of 3 different models we're evaluating."
   ]
  },
  {
   "cell_type": "code",
   "execution_count": 11,
   "metadata": {},
   "outputs": [],
   "source": [
    "labeled_df = pd.read_csv('labeled_data.csv', encoding='utf-8')"
   ]
  },
  {
   "cell_type": "markdown",
   "metadata": {},
   "source": [
    "#### (a) Which one should we deploy in production? (ie Which model is the best?)"
   ]
  },
  {
   "cell_type": "markdown",
   "metadata": {},
   "source": [
    "#### (b) Should we be happy with the performance of the model? (ie Is the best model any good?)"
   ]
  },
  {
   "cell_type": "code",
   "execution_count": 12,
   "metadata": {},
   "outputs": [
    {
     "name": "stdout",
     "output_type": "stream",
     "text": [
      "positives: 344\tnegetives: 6099\n"
     ]
    }
   ],
   "source": [
    "pos = (labeled_df['r'] > 0.5).sum()\n",
    "neg = len(labeled_df) - pos\n",
    "print(f'positives: {pos}\\tnegetives: {neg}')"
   ]
  },
  {
   "cell_type": "markdown",
   "metadata": {},
   "source": [
    "a) As seen above, given dataframe has a target class that is highly imbalanced. We can calculate the accuracies of given models, but due to such imbalanced classes, it will not be a very good metric to measure the model's capabilities. Some other good metrics are shown in the following table.  "
   ]
  },
  {
   "cell_type": "code",
   "execution_count": 13,
   "metadata": {},
   "outputs": [
    {
     "data": {
      "text/html": [
       "<div>\n",
       "<style scoped>\n",
       "    .dataframe tbody tr th:only-of-type {\n",
       "        vertical-align: middle;\n",
       "    }\n",
       "\n",
       "    .dataframe tbody tr th {\n",
       "        vertical-align: top;\n",
       "    }\n",
       "\n",
       "    .dataframe thead th {\n",
       "        text-align: right;\n",
       "    }\n",
       "</style>\n",
       "<table border=\"1\" class=\"dataframe\">\n",
       "  <thead>\n",
       "    <tr style=\"text-align: right;\">\n",
       "      <th></th>\n",
       "      <th>p_1</th>\n",
       "      <th>p_2</th>\n",
       "      <th>p_3</th>\n",
       "    </tr>\n",
       "  </thead>\n",
       "  <tbody>\n",
       "    <tr>\n",
       "      <th>Accuracy</th>\n",
       "      <td>0.949713</td>\n",
       "      <td>0.940711</td>\n",
       "      <td>0.946454</td>\n",
       "    </tr>\n",
       "    <tr>\n",
       "      <th>Balanced accuracy</th>\n",
       "      <td>0.556500</td>\n",
       "      <td>0.581918</td>\n",
       "      <td>0.502661</td>\n",
       "    </tr>\n",
       "    <tr>\n",
       "      <th>Precision</th>\n",
       "      <td>0.666667</td>\n",
       "      <td>0.382716</td>\n",
       "      <td>0.400000</td>\n",
       "    </tr>\n",
       "    <tr>\n",
       "      <th>Recall</th>\n",
       "      <td>0.116279</td>\n",
       "      <td>0.180233</td>\n",
       "      <td>0.005814</td>\n",
       "    </tr>\n",
       "    <tr>\n",
       "      <th>F1 score</th>\n",
       "      <td>0.198020</td>\n",
       "      <td>0.245059</td>\n",
       "      <td>0.011461</td>\n",
       "    </tr>\n",
       "    <tr>\n",
       "      <th>Area under ROC curve</th>\n",
       "      <td>0.556500</td>\n",
       "      <td>0.581918</td>\n",
       "      <td>0.502661</td>\n",
       "    </tr>\n",
       "  </tbody>\n",
       "</table>\n",
       "</div>"
      ],
      "text/plain": [
       "                           p_1       p_2       p_3\n",
       "Accuracy              0.949713  0.940711  0.946454\n",
       "Balanced accuracy     0.556500  0.581918  0.502661\n",
       "Precision             0.666667  0.382716  0.400000\n",
       "Recall                0.116279  0.180233  0.005814\n",
       "F1 score              0.198020  0.245059  0.011461\n",
       "Area under ROC curve  0.556500  0.581918  0.502661"
      ]
     },
     "execution_count": 13,
     "metadata": {},
     "output_type": "execute_result"
    }
   ],
   "source": [
    "from utils import get_scores\n",
    "get_scores(labeled_df)"
   ]
  },
  {
   "cell_type": "markdown",
   "metadata": {},
   "source": [
    "Given all the metrics, model 2 looks to give good results. \n",
    "\n",
    "b) Even though model_2 gives better results amoung the three models, the mesured metrics are overall low. Lets try to quicky train a model to see if we can do better. "
   ]
  },
  {
   "cell_type": "code",
   "execution_count": 14,
   "metadata": {},
   "outputs": [
    {
     "data": {
      "text/plain": [
       "Application ID        0\n",
       "Submission Date       0\n",
       "Agent                 0\n",
       "Product               0\n",
       "Monthly Commission    0\n",
       "Theater               0\n",
       "Region                0\n",
       "SubRegion             0\n",
       "r                     0\n",
       "p_1                   0\n",
       "p_2                   0\n",
       "p_3                   0\n",
       "dtype: int64"
      ]
     },
     "execution_count": 14,
     "metadata": {},
     "output_type": "execute_result"
    }
   ],
   "source": [
    "labeled_df.isna().sum()"
   ]
  },
  {
   "cell_type": "markdown",
   "metadata": {},
   "source": [
    "The data looks good and will not require much pre processing. We will need to convert the categorical columns to one hot encodings and also normalize the data. "
   ]
  },
  {
   "cell_type": "code",
   "execution_count": 15,
   "metadata": {},
   "outputs": [
    {
     "data": {
      "text/html": [
       "<div>\n",
       "<style scoped>\n",
       "    .dataframe tbody tr th:only-of-type {\n",
       "        vertical-align: middle;\n",
       "    }\n",
       "\n",
       "    .dataframe tbody tr th {\n",
       "        vertical-align: top;\n",
       "    }\n",
       "\n",
       "    .dataframe thead th {\n",
       "        text-align: right;\n",
       "    }\n",
       "</style>\n",
       "<table border=\"1\" class=\"dataframe\">\n",
       "  <thead>\n",
       "    <tr style=\"text-align: right;\">\n",
       "      <th></th>\n",
       "      <th>Submission Date</th>\n",
       "      <th>Monthly Commission</th>\n",
       "      <th>r</th>\n",
       "      <th>p_1</th>\n",
       "      <th>p_2</th>\n",
       "      <th>p_3</th>\n",
       "      <th>Agent_Allegra Eakle</th>\n",
       "      <th>Agent_Anglea Moats</th>\n",
       "      <th>Agent_Arnold Palmer</th>\n",
       "      <th>Agent_Augustina Vogan</th>\n",
       "      <th>...</th>\n",
       "      <th>SubRegion_Northern Europe</th>\n",
       "      <th>SubRegion_Northwest</th>\n",
       "      <th>SubRegion_Singapore</th>\n",
       "      <th>SubRegion_Southeast</th>\n",
       "      <th>SubRegion_Southwest</th>\n",
       "      <th>SubRegion_Spain and Portugal</th>\n",
       "      <th>SubRegion_Thailand</th>\n",
       "      <th>SubRegion_Thailand / Western Europe</th>\n",
       "      <th>SubRegion_Turkey</th>\n",
       "      <th>SubRegion_Western Europe</th>\n",
       "    </tr>\n",
       "  </thead>\n",
       "  <tbody>\n",
       "    <tr>\n",
       "      <th>0</th>\n",
       "      <td>42762.33333</td>\n",
       "      <td>75.00000</td>\n",
       "      <td>0</td>\n",
       "      <td>0.010022</td>\n",
       "      <td>0.009790</td>\n",
       "      <td>0.005836</td>\n",
       "      <td>0</td>\n",
       "      <td>0</td>\n",
       "      <td>0</td>\n",
       "      <td>0</td>\n",
       "      <td>...</td>\n",
       "      <td>0</td>\n",
       "      <td>1</td>\n",
       "      <td>0</td>\n",
       "      <td>0</td>\n",
       "      <td>0</td>\n",
       "      <td>0</td>\n",
       "      <td>0</td>\n",
       "      <td>0</td>\n",
       "      <td>0</td>\n",
       "      <td>0</td>\n",
       "    </tr>\n",
       "    <tr>\n",
       "      <th>1</th>\n",
       "      <td>42735.33333</td>\n",
       "      <td>5.00000</td>\n",
       "      <td>0</td>\n",
       "      <td>0.000000</td>\n",
       "      <td>0.007455</td>\n",
       "      <td>0.000000</td>\n",
       "      <td>0</td>\n",
       "      <td>0</td>\n",
       "      <td>0</td>\n",
       "      <td>0</td>\n",
       "      <td>...</td>\n",
       "      <td>0</td>\n",
       "      <td>0</td>\n",
       "      <td>0</td>\n",
       "      <td>0</td>\n",
       "      <td>0</td>\n",
       "      <td>0</td>\n",
       "      <td>0</td>\n",
       "      <td>0</td>\n",
       "      <td>0</td>\n",
       "      <td>0</td>\n",
       "    </tr>\n",
       "    <tr>\n",
       "      <th>2</th>\n",
       "      <td>42759.33333</td>\n",
       "      <td>355.00000</td>\n",
       "      <td>0</td>\n",
       "      <td>0.112612</td>\n",
       "      <td>0.115353</td>\n",
       "      <td>0.057465</td>\n",
       "      <td>0</td>\n",
       "      <td>0</td>\n",
       "      <td>0</td>\n",
       "      <td>0</td>\n",
       "      <td>...</td>\n",
       "      <td>0</td>\n",
       "      <td>0</td>\n",
       "      <td>0</td>\n",
       "      <td>0</td>\n",
       "      <td>0</td>\n",
       "      <td>0</td>\n",
       "      <td>0</td>\n",
       "      <td>0</td>\n",
       "      <td>0</td>\n",
       "      <td>0</td>\n",
       "    </tr>\n",
       "    <tr>\n",
       "      <th>3</th>\n",
       "      <td>42704.33333</td>\n",
       "      <td>5.00000</td>\n",
       "      <td>0</td>\n",
       "      <td>0.000000</td>\n",
       "      <td>0.025669</td>\n",
       "      <td>0.000000</td>\n",
       "      <td>0</td>\n",
       "      <td>0</td>\n",
       "      <td>0</td>\n",
       "      <td>0</td>\n",
       "      <td>...</td>\n",
       "      <td>0</td>\n",
       "      <td>0</td>\n",
       "      <td>0</td>\n",
       "      <td>0</td>\n",
       "      <td>1</td>\n",
       "      <td>0</td>\n",
       "      <td>0</td>\n",
       "      <td>0</td>\n",
       "      <td>0</td>\n",
       "      <td>0</td>\n",
       "    </tr>\n",
       "    <tr>\n",
       "      <th>4</th>\n",
       "      <td>42794.33333</td>\n",
       "      <td>5.00000</td>\n",
       "      <td>0</td>\n",
       "      <td>0.000000</td>\n",
       "      <td>0.025669</td>\n",
       "      <td>0.000000</td>\n",
       "      <td>0</td>\n",
       "      <td>0</td>\n",
       "      <td>0</td>\n",
       "      <td>0</td>\n",
       "      <td>...</td>\n",
       "      <td>0</td>\n",
       "      <td>0</td>\n",
       "      <td>0</td>\n",
       "      <td>1</td>\n",
       "      <td>0</td>\n",
       "      <td>0</td>\n",
       "      <td>0</td>\n",
       "      <td>0</td>\n",
       "      <td>0</td>\n",
       "      <td>0</td>\n",
       "    </tr>\n",
       "    <tr>\n",
       "      <th>...</th>\n",
       "      <td>...</td>\n",
       "      <td>...</td>\n",
       "      <td>...</td>\n",
       "      <td>...</td>\n",
       "      <td>...</td>\n",
       "      <td>...</td>\n",
       "      <td>...</td>\n",
       "      <td>...</td>\n",
       "      <td>...</td>\n",
       "      <td>...</td>\n",
       "      <td>...</td>\n",
       "      <td>...</td>\n",
       "      <td>...</td>\n",
       "      <td>...</td>\n",
       "      <td>...</td>\n",
       "      <td>...</td>\n",
       "      <td>...</td>\n",
       "      <td>...</td>\n",
       "      <td>...</td>\n",
       "      <td>...</td>\n",
       "      <td>...</td>\n",
       "    </tr>\n",
       "    <tr>\n",
       "      <th>6438</th>\n",
       "      <td>42779.33333</td>\n",
       "      <td>16.88125</td>\n",
       "      <td>0</td>\n",
       "      <td>0.449602</td>\n",
       "      <td>0.478067</td>\n",
       "      <td>0.211860</td>\n",
       "      <td>0</td>\n",
       "      <td>0</td>\n",
       "      <td>0</td>\n",
       "      <td>0</td>\n",
       "      <td>...</td>\n",
       "      <td>0</td>\n",
       "      <td>0</td>\n",
       "      <td>0</td>\n",
       "      <td>0</td>\n",
       "      <td>0</td>\n",
       "      <td>0</td>\n",
       "      <td>0</td>\n",
       "      <td>0</td>\n",
       "      <td>0</td>\n",
       "      <td>0</td>\n",
       "    </tr>\n",
       "    <tr>\n",
       "      <th>6439</th>\n",
       "      <td>42745.33333</td>\n",
       "      <td>85.00000</td>\n",
       "      <td>0</td>\n",
       "      <td>0.054323</td>\n",
       "      <td>0.046911</td>\n",
       "      <td>0.030851</td>\n",
       "      <td>0</td>\n",
       "      <td>0</td>\n",
       "      <td>0</td>\n",
       "      <td>0</td>\n",
       "      <td>...</td>\n",
       "      <td>0</td>\n",
       "      <td>0</td>\n",
       "      <td>0</td>\n",
       "      <td>0</td>\n",
       "      <td>0</td>\n",
       "      <td>0</td>\n",
       "      <td>0</td>\n",
       "      <td>0</td>\n",
       "      <td>0</td>\n",
       "      <td>1</td>\n",
       "    </tr>\n",
       "    <tr>\n",
       "      <th>6440</th>\n",
       "      <td>42813.29167</td>\n",
       "      <td>2793.25120</td>\n",
       "      <td>0</td>\n",
       "      <td>0.041629</td>\n",
       "      <td>0.020815</td>\n",
       "      <td>0.026137</td>\n",
       "      <td>0</td>\n",
       "      <td>0</td>\n",
       "      <td>0</td>\n",
       "      <td>0</td>\n",
       "      <td>...</td>\n",
       "      <td>0</td>\n",
       "      <td>0</td>\n",
       "      <td>0</td>\n",
       "      <td>0</td>\n",
       "      <td>0</td>\n",
       "      <td>0</td>\n",
       "      <td>0</td>\n",
       "      <td>0</td>\n",
       "      <td>0</td>\n",
       "      <td>0</td>\n",
       "    </tr>\n",
       "    <tr>\n",
       "      <th>6441</th>\n",
       "      <td>42794.33333</td>\n",
       "      <td>111.21264</td>\n",
       "      <td>0</td>\n",
       "      <td>0.081469</td>\n",
       "      <td>0.080741</td>\n",
       "      <td>0.063643</td>\n",
       "      <td>0</td>\n",
       "      <td>0</td>\n",
       "      <td>0</td>\n",
       "      <td>0</td>\n",
       "      <td>...</td>\n",
       "      <td>0</td>\n",
       "      <td>0</td>\n",
       "      <td>0</td>\n",
       "      <td>0</td>\n",
       "      <td>0</td>\n",
       "      <td>0</td>\n",
       "      <td>0</td>\n",
       "      <td>0</td>\n",
       "      <td>0</td>\n",
       "      <td>0</td>\n",
       "    </tr>\n",
       "    <tr>\n",
       "      <th>6442</th>\n",
       "      <td>42886.29167</td>\n",
       "      <td>5.00000</td>\n",
       "      <td>0</td>\n",
       "      <td>0.024626</td>\n",
       "      <td>0.031808</td>\n",
       "      <td>0.013068</td>\n",
       "      <td>0</td>\n",
       "      <td>0</td>\n",
       "      <td>0</td>\n",
       "      <td>0</td>\n",
       "      <td>...</td>\n",
       "      <td>0</td>\n",
       "      <td>0</td>\n",
       "      <td>0</td>\n",
       "      <td>0</td>\n",
       "      <td>1</td>\n",
       "      <td>0</td>\n",
       "      <td>0</td>\n",
       "      <td>0</td>\n",
       "      <td>0</td>\n",
       "      <td>0</td>\n",
       "    </tr>\n",
       "  </tbody>\n",
       "</table>\n",
       "<p>6443 rows × 151 columns</p>\n",
       "</div>"
      ],
      "text/plain": [
       "      Submission Date  Monthly Commission  r       p_1       p_2       p_3  \\\n",
       "0         42762.33333            75.00000  0  0.010022  0.009790  0.005836   \n",
       "1         42735.33333             5.00000  0  0.000000  0.007455  0.000000   \n",
       "2         42759.33333           355.00000  0  0.112612  0.115353  0.057465   \n",
       "3         42704.33333             5.00000  0  0.000000  0.025669  0.000000   \n",
       "4         42794.33333             5.00000  0  0.000000  0.025669  0.000000   \n",
       "...               ...                 ... ..       ...       ...       ...   \n",
       "6438      42779.33333            16.88125  0  0.449602  0.478067  0.211860   \n",
       "6439      42745.33333            85.00000  0  0.054323  0.046911  0.030851   \n",
       "6440      42813.29167          2793.25120  0  0.041629  0.020815  0.026137   \n",
       "6441      42794.33333           111.21264  0  0.081469  0.080741  0.063643   \n",
       "6442      42886.29167             5.00000  0  0.024626  0.031808  0.013068   \n",
       "\n",
       "      Agent_Allegra Eakle  Agent_Anglea Moats  Agent_Arnold Palmer  \\\n",
       "0                       0                   0                    0   \n",
       "1                       0                   0                    0   \n",
       "2                       0                   0                    0   \n",
       "3                       0                   0                    0   \n",
       "4                       0                   0                    0   \n",
       "...                   ...                 ...                  ...   \n",
       "6438                    0                   0                    0   \n",
       "6439                    0                   0                    0   \n",
       "6440                    0                   0                    0   \n",
       "6441                    0                   0                    0   \n",
       "6442                    0                   0                    0   \n",
       "\n",
       "      Agent_Augustina Vogan  ...  SubRegion_Northern Europe  \\\n",
       "0                         0  ...                          0   \n",
       "1                         0  ...                          0   \n",
       "2                         0  ...                          0   \n",
       "3                         0  ...                          0   \n",
       "4                         0  ...                          0   \n",
       "...                     ...  ...                        ...   \n",
       "6438                      0  ...                          0   \n",
       "6439                      0  ...                          0   \n",
       "6440                      0  ...                          0   \n",
       "6441                      0  ...                          0   \n",
       "6442                      0  ...                          0   \n",
       "\n",
       "      SubRegion_Northwest  SubRegion_Singapore  SubRegion_Southeast  \\\n",
       "0                       1                    0                    0   \n",
       "1                       0                    0                    0   \n",
       "2                       0                    0                    0   \n",
       "3                       0                    0                    0   \n",
       "4                       0                    0                    1   \n",
       "...                   ...                  ...                  ...   \n",
       "6438                    0                    0                    0   \n",
       "6439                    0                    0                    0   \n",
       "6440                    0                    0                    0   \n",
       "6441                    0                    0                    0   \n",
       "6442                    0                    0                    0   \n",
       "\n",
       "      SubRegion_Southwest  SubRegion_Spain and Portugal  SubRegion_Thailand  \\\n",
       "0                       0                             0                   0   \n",
       "1                       0                             0                   0   \n",
       "2                       0                             0                   0   \n",
       "3                       1                             0                   0   \n",
       "4                       0                             0                   0   \n",
       "...                   ...                           ...                 ...   \n",
       "6438                    0                             0                   0   \n",
       "6439                    0                             0                   0   \n",
       "6440                    0                             0                   0   \n",
       "6441                    0                             0                   0   \n",
       "6442                    1                             0                   0   \n",
       "\n",
       "      SubRegion_Thailand / Western Europe  SubRegion_Turkey  \\\n",
       "0                                       0                 0   \n",
       "1                                       0                 0   \n",
       "2                                       0                 0   \n",
       "3                                       0                 0   \n",
       "4                                       0                 0   \n",
       "...                                   ...               ...   \n",
       "6438                                    0                 0   \n",
       "6439                                    0                 0   \n",
       "6440                                    0                 0   \n",
       "6441                                    0                 0   \n",
       "6442                                    0                 0   \n",
       "\n",
       "      SubRegion_Western Europe  \n",
       "0                            0  \n",
       "1                            0  \n",
       "2                            0  \n",
       "3                            0  \n",
       "4                            0  \n",
       "...                        ...  \n",
       "6438                         0  \n",
       "6439                         1  \n",
       "6440                         0  \n",
       "6441                         0  \n",
       "6442                         0  \n",
       "\n",
       "[6443 rows x 151 columns]"
      ]
     },
     "execution_count": 15,
     "metadata": {},
     "output_type": "execute_result"
    }
   ],
   "source": [
    "from utils import str_columns_to_one_hot\n",
    "\n",
    "labeled_df = str_columns_to_one_hot(labeled_df.drop('Application ID', axis=1))\n",
    "labeled_df"
   ]
  },
  {
   "cell_type": "code",
   "execution_count": 16,
   "metadata": {},
   "outputs": [],
   "source": [
    "x = labeled_df.drop(['r', 'p_1', 'p_2', 'p_3'], axis=1)\n",
    "y = labeled_df['r']"
   ]
  },
  {
   "cell_type": "code",
   "execution_count": 17,
   "metadata": {},
   "outputs": [],
   "source": [
    "mean_x = x.mean()\n",
    "std_x = x.std()\n",
    "\n",
    "x = ((x - mean_x) / std_x)"
   ]
  },
  {
   "cell_type": "code",
   "execution_count": 18,
   "metadata": {},
   "outputs": [],
   "source": [
    "from sklearn.model_selection import train_test_split\n",
    "\n",
    "x_train, x_validation, y_train, y_validation = train_test_split(x, y, test_size=0.25, random_state=1)"
   ]
  },
  {
   "cell_type": "code",
   "execution_count": 19,
   "metadata": {},
   "outputs": [
    {
     "data": {
      "text/plain": [
       "XGBClassifier(base_score=0.5, booster='gbtree', colsample_bylevel=1,\n",
       "              colsample_bynode=1, colsample_bytree=1, gamma=0, gpu_id=-1,\n",
       "              importance_type='gain', interaction_constraints='',\n",
       "              learning_rate=0.300000012, max_delta_step=0, max_depth=6,\n",
       "              min_child_weight=1, missing=nan, monotone_constraints='()',\n",
       "              n_estimators=100, n_jobs=0, num_parallel_tree=1,\n",
       "              objective='binary:logistic', random_state=0, reg_alpha=0,\n",
       "              reg_lambda=1, scale_pos_weight=1, subsample=1,\n",
       "              tree_method='exact', validate_parameters=1, verbosity=None)"
      ]
     },
     "execution_count": 19,
     "metadata": {},
     "output_type": "execute_result"
    }
   ],
   "source": [
    "from xgboost import XGBClassifier\n",
    "\n",
    "clf = XGBClassifier()\n",
    "clf.fit(x_train, y_train)"
   ]
  },
  {
   "cell_type": "code",
   "execution_count": 20,
   "metadata": {},
   "outputs": [
    {
     "name": "stdout",
     "output_type": "stream",
     "text": [
      "F1 score: 0.34848484848484845\t Balanced accuracy score: 0.6261799466260007\n"
     ]
    }
   ],
   "source": [
    "from sklearn.metrics import accuracy_score, f1_score, balanced_accuracy_score, precision_score, recall_score\n",
    "y_pred = clf.predict(x_validation)\n",
    "print('F1 score: {}\\t Balanced accuracy score: {}'.format(f1_score(y_validation, y_pred), balanced_accuracy_score(y_validation, y_pred)))"
   ]
  },
  {
   "cell_type": "markdown",
   "metadata": {},
   "source": [
    "As we can see from the above results, the f1 score and the balanced accuracies are much better for a model that I was able to train with no domain knowledge and without spending much time, as compared to all the given previous models. But it would be unfair to compare the models since we are unaware of the training data and training conditions for the previous models, but it should not be ruled out that better performing models can be trained for the given task. "
   ]
  },
  {
   "cell_type": "code",
   "execution_count": null,
   "metadata": {},
   "outputs": [],
   "source": []
  },
  {
   "cell_type": "markdown",
   "metadata": {},
   "source": [
    "All the code can be found on the following github link: https://github.com/anupamtripathi7/ehealth_take_home\n"
   ]
  }
 ],
 "metadata": {
  "kernelspec": {
   "display_name": "Python 3",
   "language": "python",
   "name": "python3"
  },
  "language_info": {
   "codemirror_mode": {
    "name": "ipython",
    "version": 3
   },
   "file_extension": ".py",
   "mimetype": "text/x-python",
   "name": "python",
   "nbconvert_exporter": "python",
   "pygments_lexer": "ipython3",
   "version": "3.7.4"
  }
 },
 "nbformat": 4,
 "nbformat_minor": 1
}
